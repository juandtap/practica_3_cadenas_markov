{
  "cells": [
    {
      "cell_type": "markdown",
      "metadata": {
        "id": "5WOc_21xtGlf"
      },
      "source": [
        "![logoups](https://seeklogo.com/images/U/ups-politecnica-salesiana-logo-C5BE1FA0B6-seeklogo.com.png)\n",
        "\n",
        "# ANÁLISIS MULTIVARIADO Y MÉTODOS ESTOCÁSTICOS\n",
        "## Autor: Diego Tapia\n",
        "## Practica 3: : Aplicaciones de Procesos Estocásticos y Cadenas de Markov\n",
        "\n"
      ]
    },
    {
      "cell_type": "markdown",
      "metadata": {
        "id": "Nm-3mw8z45BU"
      },
      "source": [
        "### 1. Resumen: Generación de palabras y textos\n",
        "\n",
        "En este ejercicio de machine learning, se utiliza el modelo de cadenas de Markov para generar frases nuevas basadas en frases de entrada. Se emplean las frases del siguiente enlace: https://www.lasexta.com/noticias/se-habla/mejores-chistes_202008035f2821076cf6da000167ab56.html\n",
        "\n",
        "\n",
        "#### Cadenas de Markov\n",
        "Las cadenas de Markov es un modelo probabilístico que impone que la probabilidad de que suceda algo solo depende del estado anterior. En el contexto de esta aplicacion: la probabilidad de que una palabra sea la siguiente de la frase solo depende de la palabra anterior.\n",
        "\n",
        "\n",
        "#### Obtención de los datos y Generacion del grafo de Markov\n",
        "\n",
        "Se obtienen datos del enlace mencionado anteriormente utilizando requests y BeautifulSoup4, y se genera el grafo de Markov mediante un diccionario en Python, utilizando defaultdict para simplificar el código.\n"
      ]
    },
    {
      "cell_type": "code",
      "execution_count": null,
      "metadata": {
        "colab": {
          "base_uri": "https://localhost:8080/"
        },
        "id": "BCILTJM9tFwE",
        "outputId": "963e6c87-e0ec-44cf-b840-dd06f2487f09"
      },
      "outputs": [
        {
          "name": "stdout",
          "output_type": "stream",
          "text": [
            "Módulos importados\n",
            "<map object at 0x7af90c9a0e80>\n"
          ]
        }
      ],
      "source": [
        "# Obtencion de datos\n",
        "from bs4 import BeautifulSoup\n",
        "import requests\n",
        "print('Módulos importados')\n",
        "\n",
        "r = requests.get(\"https://www.lasexta.com/noticias/se-habla/mejores-chistes_202008035f2821076cf6da000167ab56.html\")\n",
        "soup = BeautifulSoup(r.text)\n",
        "\n",
        "frases = map(lambda x: x.text.replace(\"\\\"\",\"\"),soup.select(\"p\"))\n",
        "frases = map(lambda x: x.replace(\"-\",\"\"),frases)\n",
        "frases = map(lambda x: x.replace(\"\\t\",\"\"),frases)\n",
        "palabras = map(lambda x: str(x).split(\" \"),frases)\n",
        "print(palabras)"
      ]
    },
    {
      "cell_type": "code",
      "execution_count": null,
      "metadata": {
        "colab": {
          "base_uri": "https://localhost:8080/"
        },
        "id": "_lcR7Esb7jN3",
        "outputId": "25cada52-5638-4410-867c-64017b92d9a1"
      },
      "outputs": [],
      "source": [
        "# Generacion del grafo de markov\n",
        "\n",
        "from collections import defaultdict\n",
        "almacen = defaultdict(lambda: list())\n",
        "\n",
        "def add_word(prev,next):\n",
        "    global almacen\n",
        "    almacen[prev].append(next)\n",
        "\n",
        "for frase in palabras:\n",
        "    frase = list(frase)\n",
        "    #print(frase)\n",
        "    for i,palabra in enumerate(frase):\n",
        "        if i == 0:\n",
        "            add_word((\"START\",\"START\"),palabra)\n",
        "            continue\n",
        "        if i == 1:\n",
        "            add_word((\"START\",frase[0]),palabra)\n",
        "            continue\n",
        "        add_word((frase[i-2],frase[i-1]),palabra)\n",
        "\n",
        "print(almacen)\n"
      ]
    },
    {
      "cell_type": "markdown",
      "metadata": {
        "id": "NaGmaUCy65Pn"
      },
      "source": [
        "#### Genreación de Nuevas Frases\n",
        "\n",
        "Finalmente, se muestra el proceso de generación de una frase nueva utilizando random.choice, y se presentan los resultados."
      ]
    },
    {
      "cell_type": "code",
      "execution_count": null,
      "metadata": {
        "id": "tr-wiyx38Hx6"
      },
      "outputs": [],
      "source": [
        "#Generando una frase nueva\n",
        "import random\n",
        "\n",
        "#Función para generar nueva frase\n",
        "def gen_word():\n",
        "    word = list()\n",
        "    state = \"START\",\"START\"\n",
        "    while True:\n",
        "        w = random.choice(almacen[state])\n",
        "        word.append(w)\n",
        "        state = state[1],w\n",
        "        if w.endswith(\".\") or w.endswith(\"!\") or w.endswith(\"\\n\"):\n",
        "            return \" \".join(word)"
      ]
    },
    {
      "cell_type": "code",
      "execution_count": null,
      "metadata": {
        "colab": {
          "base_uri": "https://localhost:8080/"
        },
        "id": "4qgHELlpA3Uj",
        "outputId": "6e54bee0-773e-47de-95a7-6dc15f9f748a"
      },
      "outputs": [
        {
          "name": "stdout",
          "output_type": "stream",
          "text": [
            "7    ¿A mí? Infinito.\n",
            "10   ¡Mira, Iñaki, un Rolex!\n",
            "12    Pues nada, he ido a comprar 300 vacas, 500 bueyes, 400 ovejas y 30 toneladas de madera.\n",
            "14   Recopilación de los tuyos, y créeme, hay mucho que reclamar también.\n",
            "15    ¡AAAHHHHhh!.\n",
            "18   – Mamá, mamá, los spaghetti se están pegando.\n",
            "22   – Sonángulos son las personas que caminan dormidas.\n",
            "25   ¡Rápido, necesitamos sangre!\n",
            "31   – Porque en el bolsillo.\n",
            "34    Luke, yo soy tu padre.\n",
            "35   – Sonángulos son las personas que caminan dormidas.\n"
          ]
        }
      ],
      "source": [
        "# Generando frases\n",
        "\n",
        "for a in range(40):\n",
        "    try:\n",
        "        palabraGenerada=gen_word()\n",
        "        print(a,' ',palabraGenerada)\n",
        "    except Exception as err:\n",
        "        continue"
      ]
    },
    {
      "cell_type": "markdown",
      "metadata": {
        "id": "DuozsJXWLG0K"
      },
      "source": [
        "### 2. Resumen: Reconocimiento de voz\n",
        "\n",
        "#### Descripción general del reconocimiento de voz\n",
        "\n",
        "El reconocimiento de voz tiene sus raíces en la investigación realizada en Bell Labs en la década de 1950. Los sistemas modernos han evolucionado significativamente, siendo capaces de reconocer el habla de varios hablantes y tener vocabularios extensos en diversos idiomas. En la actualidad, muchos sistemas utilizan Modelos Ocultos de Markov (HMM, por sus siglas en inglés) para transcribir el audio a texto.\n",
        "\n",
        "Los HMM dividen la señal de habla en fragmentos de 10 milisegundos, representando el espectro de potencia de cada fragmento con coeficientes cepstrales. Estos coeficientes se utilizan para decodificar la señal en grupos de vectores que se corresponden con fonemas, unidades fundamentales del habla. Los sistemas modernos a menudo emplean redes neuronales para simplificar la señal de habla antes de la reconocimiento HMM, utilizando técnicas de transformación de características y reducción de dimensionalidad. Además, se emplean detectores de actividad vocal para reducir la señal de audio a partes probablemente habladas, optimizando así el proceso.\n",
        "\n",
        "Afortunadamente, en Python se pueden aprovechar servicios de reconocimiento de voz en línea a través de API, sin preocuparse por los detalles técnicos.\n",
        "\n",
        "#### Selección del paquete de Reconocimiento de voz\n",
        "\n",
        "Existen varias opciones de paquetes para reconocimiento de voz en Python disponibles en PyPI, como apiai, assemblyai, google-cloud-speech, pocketsphinx, SpeechRecognition, watson-developer-cloud y wit. Entre ellas, SpeechRecognition destaca por su facilidad de uso y flexibilidad, actuando como un contenedor para varias API populares de reconocimiento de voz. Este paquete, que simplifica la obtención de entrada de audio, es especialmente recomendado por su rapidez en poner en marcha el reconocimiento de voz, evitando la necesidad de construir scripts desde cero para acceder a micrófonos y procesar archivos de audio.\n"
      ]
    },
    {
      "cell_type": "markdown",
      "metadata": {
        "id": "9C3MZEmYO5fU"
      },
      "source": [
        "#### Aplicación en python para reconocimiento de voz con SpeechRecognition"
      ]
    },
    {
      "cell_type": "code",
      "execution_count": null,
      "metadata": {
        "id": "352RV-FELQ1o"
      },
      "outputs": [],
      "source": [
        "#%pip install SpeechRecognition\n",
        "#%pip install pyaudio\n"
      ]
    },
    {
      "cell_type": "code",
      "execution_count": null,
      "metadata": {
        "colab": {
          "base_uri": "https://localhost:8080/",
          "height": 453
        },
        "id": "2K3RVkR8P4M3",
        "outputId": "5c788fdf-ceca-4fb9-9384-fa426d9f9ba7"
      },
      "outputs": [
        {
          "name": "stdout",
          "output_type": "stream",
          "text": [
            "I'm thinking of one of these words:\n",
            "apple, banana, grape, orange, mango, lemon\n",
            "You have 3 tries to guess which one.\n",
            "\n",
            "Guess 1. Speak!\n",
            "You said: Apple\n",
            "Incorrect. Try again.\n",
            "\n",
            "Guess 2. Speak!\n",
            "You said: Orange\n",
            "Incorrect. Try again.\n",
            "\n",
            "Guess 3. Speak!\n",
            "I didn't catch that. What did you say?\n",
            "\n",
            "Guess 3. Speak!\n",
            "I didn't catch that. What did you say?\n",
            "\n",
            "Guess 3. Speak!\n",
            "You said: lemon\n",
            "Sorry, you lose!\n",
            "I was thinking of 'mango'.\n"
          ]
        }
      ],
      "source": [
        "import random\n",
        "import time\n",
        "\n",
        "import speech_recognition as sr\n",
        "\n",
        "\n",
        "def recognize_speech_from_mic(recognizer, microphone):\n",
        "    \"\"\"Transcribe speech from recorded from `microphone`.\n",
        "\n",
        "    Returns a dictionary with three keys:\n",
        "    \"success\": a boolean indicating whether or not the API request was\n",
        "               successful\n",
        "    \"error\":   `None` if no error occured, otherwise a string containing\n",
        "               an error message if the API could not be reached or\n",
        "               speech was unrecognizable\n",
        "    \"transcription\": `None` if speech could not be transcribed,\n",
        "               otherwise a string containing the transcribed text\n",
        "    \"\"\"\n",
        "    # check that recognizer and microphone arguments are appropriate type\n",
        "    if not isinstance(recognizer, sr.Recognizer):\n",
        "        raise TypeError(\"`recognizer` must be `Recognizer` instance\")\n",
        "\n",
        "    if not isinstance(microphone, sr.Microphone):\n",
        "        raise TypeError(\"`microphone` must be `Microphone` instance\")\n",
        "\n",
        "    # adjust the recognizer sensitivity to ambient noise and record audio\n",
        "    # from the microphone\n",
        "    with microphone as source:\n",
        "        recognizer.adjust_for_ambient_noise(source)\n",
        "        audio = recognizer.listen(source)\n",
        "\n",
        "    # set up the response object\n",
        "    response = {\n",
        "        \"success\": True,\n",
        "        \"error\": None,\n",
        "        \"transcription\": None\n",
        "    }\n",
        "\n",
        "    # try recognizing the speech in the recording\n",
        "    # if a RequestError or UnknownValueError exception is caught,\n",
        "    #     update the response object accordingly\n",
        "    try:\n",
        "        response[\"transcription\"] = recognizer.recognize_google(audio)\n",
        "    except sr.RequestError:\n",
        "        # API was unreachable or unresponsive\n",
        "        response[\"success\"] = False\n",
        "        response[\"error\"] = \"API unavailable\"\n",
        "    except sr.UnknownValueError:\n",
        "        # speech was unintelligible\n",
        "        response[\"error\"] = \"Unable to recognize speech\"\n",
        "\n",
        "    return response\n",
        "\n",
        "\n",
        "if __name__ == \"__main__\":\n",
        "    # set the list of words, maxnumber of guesses, and prompt limit\n",
        "    WORDS = [\"apple\", \"banana\", \"grape\", \"orange\", \"mango\", \"lemon\"]\n",
        "    NUM_GUESSES = 3\n",
        "    PROMPT_LIMIT = 5\n",
        "\n",
        "    # create recognizer and mic instances\n",
        "    recognizer = sr.Recognizer()\n",
        "    microphone = sr.Microphone()\n",
        "\n",
        "    # get a random word from the list\n",
        "    word = random.choice(WORDS)\n",
        "\n",
        "    # format the instructions string\n",
        "    instructions = (\n",
        "        \"I'm thinking of one of these words:\\n\"\n",
        "        \"{words}\\n\"\n",
        "        \"You have {n} tries to guess which one.\\n\"\n",
        "    ).format(words=', '.join(WORDS), n=NUM_GUESSES)\n",
        "\n",
        "    # show instructions and wait 3 seconds before starting the game\n",
        "    print(instructions)\n",
        "    time.sleep(3)\n",
        "\n",
        "    for i in range(NUM_GUESSES):\n",
        "        # get the guess from the user\n",
        "        # if a transcription is returned, break out of the loop and\n",
        "        #     continue\n",
        "        # if no transcription returned and API request failed, break\n",
        "        #     loop and continue\n",
        "        # if API request succeeded but no transcription was returned,\n",
        "        #     re-prompt the user to say their guess again. Do this up\n",
        "        #     to PROMPT_LIMIT times\n",
        "        for j in range(PROMPT_LIMIT):\n",
        "            print('Guess {}. Speak!'.format(i+1))\n",
        "            guess = recognize_speech_from_mic(recognizer, microphone)\n",
        "            if guess[\"transcription\"]:\n",
        "                break\n",
        "            if not guess[\"success\"]:\n",
        "                break\n",
        "            print(\"I didn't catch that. What did you say?\\n\")\n",
        "\n",
        "        # if there was an error, stop the game\n",
        "        if guess[\"error\"]:\n",
        "            print(\"ERROR: {}\".format(guess[\"error\"]))\n",
        "            break\n",
        "\n",
        "        # show the user the transcription\n",
        "        print(\"You said: {}\".format(guess[\"transcription\"]))\n",
        "\n",
        "        # determine if guess is correct and if any attempts remain\n",
        "        guess_is_correct = guess[\"transcription\"].lower() == word.lower()\n",
        "        user_has_more_attempts = i < NUM_GUESSES - 1\n",
        "\n",
        "        # determine if the user has won the game\n",
        "        # if not, repeat the loop if user has more attempts\n",
        "        # if no attempts left, the user loses the game\n",
        "        if guess_is_correct:\n",
        "            print(\"Correct! You win!\".format(word))\n",
        "            break\n",
        "        elif user_has_more_attempts:\n",
        "            print(\"Incorrect. Try again.\\n\")\n",
        "        else:\n",
        "            print(\"Sorry, you lose!\\nI was thinking of '{}'.\".format(word))\n",
        "            break"
      ]
    },
    {
      "cell_type": "markdown",
      "metadata": {
        "id": "zGGLXyIxZ0D3"
      },
      "source": [
        "### 3. Aplicación de Cadena de Markov en Python\n",
        "\n",
        "#### Explicación inicial\n",
        "\n",
        "Se tiene el siguiente ejemplo de aplicación.\n",
        "\n",
        "En una Unidad de Cuidados Intensivos en un determinado hospital, cada paciente es clasificado de acuerdo a un estado crítico, serio o estable.\n",
        "\n",
        "Detalle de los estados:\n",
        "\n",
        "CRITICO: Este estado podría representar a pacientes que enfrentan situaciones de salud muy complicadas y que tienen una probabilidad considerable de empeorar, aunque aún existe una posibilidad de mejoría.\n",
        "\n",
        "SERIO: Este estado podría representar a pacientes que están en una situación de salud seria pero no tan crítica como aquellos en estado \"CRITICO\". La probabilidad de mejoría es un poco más alta, pero también hay una probabilidad considerable de empeorar.\n",
        "\n",
        "ESTABLE: Un paciente se considera estable cuando sus signos vitales están dentro de los rangos normales, y no experimenta cambios sustanciales en su estado de salud. En otras palabras, no hay indicadores evidentes de empeoramiento o mejora significativa.\n",
        "\n",
        "\n",
        "Estos estados son actualizadas cada mañana por un médico, de acuerdo a la evaluación experimentada por el paciente.\n",
        "\n",
        "\n",
        "#### Diseño y Desarrollo\n",
        "\n",
        "Las probabilidades con las cuales cada paciente pasa de un estado a otro se resumen en siguiente tabla:\n",
        "\n",
        "#### Tabla 1: Matriz de transición de estados de pacientes\n",
        "|            | Crítico| Serio | Estable |\n",
        "|------------|-------------|-----------|-------------|\n",
        "| **Crítico**  | 0.60        | 0.30      | 0.10        |\n",
        "| **Serio**    | 0.40        | 0.40      | 0.20        |\n",
        "| **Estable**  | 0.10        | 0.40      | 0.50        |\n",
        "\n",
        "#### Cadena de Markov\n",
        "\n",
        "A partir de la matriz de transición se tiene la siguiente  cadena de markov\n",
        "\n",
        "Figura 1: Cadena de Markov: Ejemplo Unidad de ciudados Intensivos\n",
        "![cadenamarkov](https://raw.githubusercontent.com/juandtap/practica_3_cadenas_markov/master/gradomarkov.png)\n",
        "\n",
        "#### Código en Python\n",
        "\n",
        "Simulación de cambios de estado de los pacientes en los siguientes 7 dias"
      ]
    },
    {
      "cell_type": "code",
      "execution_count": 2,
      "metadata": {
        "colab": {
          "base_uri": "https://localhost:8080/"
        },
        "id": "chzT58addp7-",
        "outputId": "4e9ce134-127a-48da-aa46-c701e6a593d2"
      },
      "outputs": [
        {
          "name": "stdout",
          "output_type": "stream",
          "text": [
            "Día 1: Paciente en estado CRITICO\n",
            "Día 2: Paciente en estado CRITICO\n",
            "Día 3: Paciente en estado SERIO\n",
            "Día 4: Paciente en estado SERIO\n",
            "Día 5: Paciente en estado ESTABLE\n",
            "Día 6: Paciente en estado SERIO\n",
            "Día 7: Paciente en estado ESTABLE\n",
            "Simulación de 7 días terminada\n"
          ]
        }
      ],
      "source": [
        "import numpy as np\n",
        "\n",
        "# Definir estados\n",
        "estados_paciente = [\"CRITICO\", \"SERIO\", \"ESTABLE\"]\n",
        "# índices estados\n",
        "indice_estado_paciente = {estado: i for i, estado in enumerate(estados_paciente)}\n",
        "\n",
        "# Matriz de transición de estados de pacientes\n",
        "transicion_estados_paciente = np.array([\n",
        "    # C    S    E\n",
        "    [0.6, 0.3, 0.1],  # Critico\n",
        "    [0.4, 0.4, 0.2],  # Serio\n",
        "    [0.1, 0.4, 0.5],  # Estable\n",
        "])\n",
        "\n",
        "# Estado inicial (puede ser aleatorio o definido)\n",
        "estado_actual_paciente = \"CRITICO\"\n",
        "\n",
        "# Simulación de transiciones durante 7 días\n",
        "num_dias = 7\n",
        "\n",
        "for dia in range(1, num_dias + 1):\n",
        "    # Obtener el índice del estado actual\n",
        "    indice_actual_paciente = indice_estado_paciente[estado_actual_paciente]\n",
        "\n",
        "    # Elegir el próximo estado según la matriz de transición\n",
        "    eleccion_paciente = np.random.multinomial(1, transicion_estados_paciente[indice_actual_paciente])\n",
        "\n",
        "    # Obtener el índice del próximo estado\n",
        "    indice_proximo_estado_paciente = np.argmax(eleccion_paciente)\n",
        "\n",
        "    # Obtener el nombre del próximo estado\n",
        "    proximo_estado_paciente = estados_paciente[indice_proximo_estado_paciente]\n",
        "\n",
        "    # Actualizar el estado actual para el próximo día\n",
        "    estado_actual_paciente = proximo_estado_paciente\n",
        "\n",
        "    # Mostrar el estado del paciente en cada día\n",
        "    print(f\"Día {dia}: Paciente en estado {estado_actual_paciente}\")\n",
        "\n",
        "print(\"Simulación de 7 días terminada\")"
      ]
    },
    {
      "cell_type": "markdown",
      "metadata": {
        "id": "O-XieJXTRxL0"
      },
      "source": [
        "También se pueden calcular probabilidades más específicas como:\n",
        "\n",
        "La probabilidad de que un paciente esté en estado crítico el día Jueves y que el día Sábado esté estable, esta dado por: $\\mathbb{P}_{CE}^{2}$, es decir, la probabilidad de pasar del estado crítico al estado estable al cabo de 2 etapas (días).\n",
        "\n",
        "$\\mathbb{P}_{CE}^{2}=0,3*0,2+0,1*0,5+0,6*0,1=0,17$\n",
        "\n",
        "Tambien se puede usar de forma equivalente las ecuaciones matriciales\n",
        "\n",
        "$f^{n}=P^{T}*f^{n-1}$:\n",
        "\n",
        "\n",
        "$f^{1}=P^{T}*f^{0}=$\n",
        "$\n",
        "\\begin{bmatrix}\n",
        "    0.60 & 0.40 & 0.10 \\\\\n",
        "    0.30 & 0.40 & 0.40 \\\\\n",
        "    0.20 & 0.20 & 0.50 \\\\\n",
        "\\end{bmatrix}$\n",
        "$\n",
        "\\begin{bmatrix}\n",
        "    1 \\\\\n",
        "    0 \\\\\n",
        "    0 \\\\\n",
        "\\end{bmatrix}\n",
        "=$\n",
        "$\n",
        "\\begin{bmatrix}\n",
        "    0.60 \\\\\n",
        "    0.30 \\\\\n",
        "    0.10 \\\\\n",
        "\\end{bmatrix}\n",
        "$\n",
        "\n",
        "$f^{2}=P^{T}*f^{1}=$\n",
        "$\n",
        "\\begin{bmatrix}\n",
        "    0.60 & 0.40 & 0.10 \\\\\n",
        "    0.30 & 0.40 & 0.40 \\\\\n",
        "    0.20 & 0.20 & 0.50 \\\\\n",
        "\\end{bmatrix}\n",
        "$\n",
        "$\n",
        "\\begin{bmatrix}\n",
        "    0.6 \\\\\n",
        "    0.3 \\\\\n",
        "    0.1\\\\\n",
        "\\end{bmatrix}\n",
        "=$\n",
        "$\n",
        "\\begin{bmatrix}\n",
        "    0.49 \\\\\n",
        "    0.34 \\\\\n",
        "    0.17 \\\\\n",
        "\\end{bmatrix}\n",
        "$\n",
        "\n",
        "Se comprueba que la probabilidad de pasar del estado crítico al estado estable al cabo de 2 etapas es de un 17%.\n",
        "\n",
        "Calculo de probabilidad en python:\n",
        "\n"
      ]
    },
    {
      "cell_type": "code",
      "execution_count": 3,
      "metadata": {
        "colab": {
          "base_uri": "https://localhost:8080/"
        },
        "id": "9bewuOg9VIe3",
        "outputId": "309374a7-a504-4a94-d69b-3c6786847169"
      },
      "outputs": [
        {
          "name": "stdout",
          "output_type": "stream",
          "text": [
            "La probabilidad de pasar de critico  a estable dentro de 2 dias es: 0.16999999999999998\n"
          ]
        }
      ],
      "source": [
        "# Calcular la probabilidad de pasar de estado CRITICO a ESTABLE dentro de 2 dias (etapas)\n",
        "pce2 = np.linalg.matrix_power(transicion_estados_paciente, 2)[0][2]\n",
        "\n",
        "print(f\"La probabilidad de pasar de critico  a estable dentro de 2 dias es: {pce2}\")"
      ]
    },
    {
      "cell_type": "markdown",
      "metadata": {
        "id": "zV7ZntroVKCQ"
      },
      "source": [
        "¿Cuál es la probabilidad que un paciente que está en estado estable el Lunes experimente alguna complicación y no esté estable nuevamente el Miércoles?."
      ]
    },
    {
      "cell_type": "code",
      "execution_count": 4,
      "metadata": {
        "colab": {
          "base_uri": "https://localhost:8080/"
        },
        "id": "Qb7WdDTIVuEM",
        "outputId": "a31608b7-c3cc-4a2a-9d69-2f5339307361"
      },
      "outputs": [
        {
          "name": "stdout",
          "output_type": "stream",
          "text": [
            "[[0.49 0.34 0.17]\n",
            " [0.42 0.36 0.22]\n",
            " [0.27 0.39 0.34]]\n",
            "La probabilidad de pasar estable a critico dentro de 2 dias es: 0.27\n",
            "La probabilidad de pasar estable a serio dentro de 2 dias es: 0.39\n",
            "La probabilidad que un paciente que está en estado estable el Lunes experimente alguna complicación y no esté estable nuevamente el Miércoles es:\n",
            "0.27 + 0.39 = 0.66\n"
          ]
        }
      ],
      "source": [
        "# Calcular la probabilidad de pasar de estado ESTABLE a CRITICO o SERIO  dentro de 2 dias (etapas)\n",
        "pecs2 = np.linalg.matrix_power(transicion_estados_paciente, 2)\n",
        "print(pecs2)\n",
        "print(f\"La probabilidad de pasar estable a critico dentro de 2 dias es: {pecs2[2][0]}\")\n",
        "print(f\"La probabilidad de pasar estable a serio dentro de 2 dias es: {pecs2[2][1]}\")\n",
        "print(\"La probabilidad que un paciente que está en estado estable el Lunes experimente alguna complicación y no esté estable nuevamente el Miércoles es:\")\n",
        "print(f\"{pecs2[2][0]} + {pecs2[2][1]} = {pecs2[2][0]+pecs2[2][1]}\")\n"
      ]
    },
    {
      "cell_type": "markdown",
      "metadata": {
        "id": "e3rK6TSBJrd1"
      },
      "source": [
        "\n",
        "#### Conclusiones\n",
        "\n",
        "Este modelo proporciona una herramienta para analizar y prever la evolución de la condición de los pacientes a lo largo del tiempo (dias).\n",
        "\n",
        "La simulación de la transición de estados con un vector inicial nos permite comprender cómo las probabilidades influyen en la distribución de pacientes en diferentes estados. En este caso, observamos que al comenzar con un paciente en estado crítico, hay una alta probabilidad de que permanezca crítico en el siguiente paso, indicando la gravedad de este estado.\n",
        "\n",
        "La aplicación de cadenas de Markov en el ámbito médico facilita el analisis de estados de los pacientes, brindando una visión cuantitativa (probabilidades) que puede ser valiosa a la hora de tomar decisiones con respecto a los pacientes y la gestión de recursos en entornos de cuidados intensivos.\n",
        "\n",
        "#### Referencias\n",
        "\n",
        "Arroyo, A. (2018, January 25). generar frases  con cadenas-markov machine learning en python. Adrianistan Ell Blog De Adrian Arroyo. Retrieved January 21, 2024, from https://blog.adrianistan.eu/generar-frases-cadenas-markov-machine-learning-python\n",
        "\n",
        "Python, R. (2023, September 7). The Ultimate guide to speech recognition with Python. https://realpython.com/python-speech-recognition/\n",
        "\n",
        "Tutoriales, G. (2015, October 7). Cadenas de Markov (Ejercicios Resueltos). Gestión De Operaciones. https://www.gestiondeoperaciones.net/cadenas-de-markov/cadenas-de-markov-ejercicios-resueltos/"
      ]
    }
  ],
  "metadata": {
    "colab": {
      "provenance": []
    },
    "kernelspec": {
      "display_name": "Python 3",
      "name": "python3"
    },
    "language_info": {
      "codemirror_mode": {
        "name": "ipython",
        "version": 3
      },
      "file_extension": ".py",
      "mimetype": "text/x-python",
      "name": "python",
      "nbconvert_exporter": "python",
      "pygments_lexer": "ipython3",
      "version": "3.11.5"
    }
  },
  "nbformat": 4,
  "nbformat_minor": 0
}
