{
 "cells": [
  {
   "cell_type": "markdown",
   "metadata": {},
   "source": [
    "### Algorritmo de planificacion de procesos \n",
    "\n",
    "Los sistemas operativos utilizan cadenas de Markov para modelar el comportamiento de los procesos y planificar su ejecución. Los estados pueden representar diferentes estados de ejecución, como listo, en ejecución, bloqueado, etc."
   ]
  },
  {
   "cell_type": "markdown",
   "metadata": {},
   "source": [
    "En el contexto de los algoritmos de planificación de procesos, una cadena de Markov puede ser utilizada para modelar el comportamiento dinámico de los procesos en un sistema operativo. Supongamos que tenemos tres estados principales que representan el estado de ejecución de un proceso en un sistema:\n",
    "\n",
    "Listo (Ready): El proceso está listo para ejecutarse pvgero aún no se le ha asignado tiempo de CPU.\n",
    "En Ejecución (Running): El proceso está actualmente en ejecución y utilizando la CPU.\n",
    "Bloqueado (Blocked): El proceso está bloqueado, por ejemplo, esperando la finalización de una operación de entrada/salida.\n",
    "\n",
    "\n",
    "Podemos representar estas transiciones entre estados mediante una matriz de transición de estados. La siguiente matriz de transición de estados es un ejemplo simple:"
   ]
  },
  {
   "cell_type": "code",
   "execution_count": 22,
   "metadata": {},
   "outputs": [
    {
     "name": "stdout",
     "output_type": "stream",
     "text": [
      "Estado inicial: INICIANDO\n",
      "Estado actual EN EJECUCION\n",
      "Estado actual INICIANDO\n",
      "Estado actual EN EJECUCION\n",
      "Estado actual EN EJECUCION\n",
      "Estado actual EN EJECUCION\n",
      "Estado actual EN EJECUCION\n",
      "Estado actual RECARGA\n",
      "Estado actual FALLA\n",
      "Estado actual INICIANDO\n",
      "Estado actual EN EJECUCION\n",
      "Simulación terminada\n",
      "------\n"
     ]
    }
   ],
   "source": [
    "import numpy as np\n",
    "\n",
    "# Definir estados\n",
    "estados = [\"INICIANDO\", \"EN EJECUCION\", \"RECARGA\", \"FALLA\"]\n",
    "# índices estados\n",
    "indice_estado = {estado: i for i, estado in enumerate(estados)}\n",
    "\n",
    "# matriz de transición de estados\n",
    "transicion_estados = np.array([\n",
    "    #I    E      R     F     \n",
    "    [0.03, 0.90, 0.00, 0.07],  # INICIANDO\n",
    "    [0.05, 0.90, 0.04, 0.01],  # EN EJECUCION\n",
    "    [0.00, 0.90, 0.00, 0.10],  # RECARGA\n",
    "    [1.00, 0.00, 0.00, 0.00],  # FALLA\n",
    "    \n",
    "])\n",
    "\n",
    "\n",
    "\n",
    "# Simulacion de multiples transiciones de estados\n",
    "num_transiciones = 10\n",
    "\n",
    "# Estado inicial\n",
    "estado_actual = estados[0]\n",
    "print(f\"Estado inicial: {estado_actual}\")\n",
    "\n",
    "for _ in range(num_transiciones):\n",
    "   \n",
    "    # Obtener el índice del estado actual\n",
    "    indice_actual = indice_estado[estado_actual]\n",
    "        \n",
    "    # Elegir el próximo estado según la matriz de transición\n",
    "    eleccion = np.random.multinomial(1, transicion_estados[indice_actual])\n",
    "\n",
    "    # Obtener el índice del próximo estado\n",
    "    indice_proximo_estado = np.argmax(eleccion)\n",
    "\n",
    "    # Obtener el nombre del próximo estado\n",
    "    proximo_estado = estados[indice_proximo_estado]\n",
    "\n",
    "    # Actualizar el estado actual para el próximo paso\n",
    "    estado_actual = proximo_estado\n",
    "        \n",
    "    print(\"Estado actual\", proximo_estado)\n",
    "\n",
    "print(\"Simulación terminada\")\n",
    "print(\"------\")"
   ]
  },
  {
   "cell_type": "code",
   "execution_count": 48,
   "metadata": {},
   "outputs": [
    {
     "name": "stdout",
     "output_type": "stream",
     "text": [
      "[[0.49 0.34 0.17]\n",
      " [0.42 0.36 0.22]\n",
      " [0.27 0.39 0.34]]\n"
     ]
    }
   ],
   "source": [
    "transicion_estados_paciente = np.array([\n",
    "    # C    S        E\n",
    "    [0.60, 0.30, 0.10 ],  # Critico\n",
    "    [0.40, 0.40, 0.20 ],  # Serio\n",
    "    [0.10, 0.40, 0.50, ],  # Estable\n",
    "  \n",
    "    \n",
    "])\n",
    "\n",
    "n  = 2\n",
    "# PROCEDIMIENTO\n",
    "pn = np.linalg.matrix_power(transicion_estados_paciente,n)\n",
    "\n",
    "# SALIDA\n",
    "print(pn)\n",
    "\n",
    "\n"
   ]
  },
  {
   "cell_type": "code",
   "execution_count": 49,
   "metadata": {},
   "outputs": [
    {
     "name": "stdout",
     "output_type": "stream",
     "text": [
      "La probabilidad de pasar de critico  a estable en el instante 3 es: 0.16999999999999998\n"
     ]
    }
   ],
   "source": [
    "# Calcular la probabilidad de pasar de EN EJECUCIÓN a FALLO en el instante 3\n",
    "probabilidad_fallo_en_instante_3 = np.linalg.matrix_power(transicion_estados_paciente, 2)[0][2]\n",
    "\n",
    "print(f\"La probabilidad de pasar de critico  a estable en el instante 3 es: {probabilidad_fallo_en_instante_3}\")\n"
   ]
  },
  {
   "cell_type": "code",
   "execution_count": 66,
   "metadata": {},
   "outputs": [
    {
     "name": "stdout",
     "output_type": "stream",
     "text": [
      "Día 1: Paciente en estado ESTABLE\n",
      "Día 2: Paciente en estado ESTABLE\n",
      "Día 3: Paciente en estado ESTABLE\n",
      "Día 4: Paciente en estado SERIO\n",
      "Día 5: Paciente en estado SERIO\n",
      "Día 6: Paciente en estado ESTABLE\n",
      "Día 7: Paciente en estado ESTABLE\n",
      "Simulación de 7 días terminada\n"
     ]
    }
   ],
   "source": [
    "import numpy as np\n",
    "\n",
    "# Definir estados\n",
    "estados_paciente = [\"CRITICO\", \"SERIO\", \"ESTABLE\"]\n",
    "# índices estados\n",
    "indice_estado_paciente = {estado: i for i, estado in enumerate(estados_paciente)}\n",
    "\n",
    "# Matriz de transición de estados de pacientes\n",
    "transicion_estados_paciente = np.array([\n",
    "    # C    S        E\n",
    "    [0.60, 0.30, 0.10],  # Critico\n",
    "    [0.40, 0.40, 0.20],  # Serio\n",
    "    [0.10, 0.40, 0.50],  # Estable\n",
    "])\n",
    "\n",
    "# Estado inicial (puede ser aleatorio o definido)\n",
    "estado_actual_paciente = \"CRITICO\"\n",
    "\n",
    "# Simulación de transiciones durante 7 días\n",
    "num_dias = 7\n",
    "\n",
    "for dia in range(1, num_dias + 1):\n",
    "    # Obtener el índice del estado actual\n",
    "    indice_actual_paciente = indice_estado_paciente[estado_actual_paciente]\n",
    "\n",
    "    # Elegir el próximo estado según la matriz de transición\n",
    "    eleccion_paciente = np.random.multinomial(1, transicion_estados_paciente[indice_actual_paciente])\n",
    "\n",
    "    # Obtener el índice del próximo estado\n",
    "    indice_proximo_estado_paciente = np.argmax(eleccion_paciente)\n",
    "\n",
    "    # Obtener el nombre del próximo estado\n",
    "    proximo_estado_paciente = estados_paciente[indice_proximo_estado_paciente]\n",
    "\n",
    "    # Actualizar el estado actual para el próximo día\n",
    "    estado_actual_paciente = proximo_estado_paciente\n",
    "\n",
    "    # Mostrar el estado del paciente en cada día\n",
    "    print(f\"Día {dia}: Paciente en estado {estado_actual_paciente}\")\n",
    "\n",
    "print(\"Simulación de 7 días terminada\")\n"
   ]
  }
 ],
 "metadata": {
  "language_info": {
   "name": "python"
  }
 },
 "nbformat": 4,
 "nbformat_minor": 2
}
